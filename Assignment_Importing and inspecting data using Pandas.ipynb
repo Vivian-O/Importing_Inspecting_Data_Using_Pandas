{
 "cells": [
  {
   "cell_type": "markdown",
   "id": "ee5857f1",
   "metadata": {},
   "source": [
    "# Udemy - an American massive open online course provider aimed at professional adults and students is trying to understand the sales in one its profesional course categories. You hav been tasked as a data analyst to answer the following business questions using the available data stored in Google drive. Please note that for compliance reasons, you are not allowed to have a copy of the dataset."
   ]
  },
  {
   "cell_type": "markdown",
   "id": "31d83c2a",
   "metadata": {},
   "source": [
    "The dataset to be used is an excel file which can be found at https://docs.google.com/spreadsheets/d/e/2PACX-1vQkpo2TA9xJ4gKon4ptPJBnlO3WJcTIP6soD1IL2x9D-jUUhZ9HhMlo7kcKuu1RmRi8wZb4o6lMnCJB/pub?output=xlsx and the Data is located in a sheet named \"Data\". With the aid of the available dataset, answer the following questions."
   ]
  },
  {
   "cell_type": "markdown",
   "id": "e57871ab",
   "metadata": {},
   "source": [
    "1. Load the dataset into python."
   ]
  },
  {
   "cell_type": "code",
   "execution_count": null,
   "id": "7f61c75d",
   "metadata": {},
   "outputs": [],
   "source": [
    "import pandas as pd"
   ]
  },
  {
   "cell_type": "code",
   "execution_count": null,
   "id": "41b16781",
   "metadata": {},
   "outputs": [],
   "source": [
    "DS = pd.read_excel(r'https://docs.google.com/spreadsheets/d/e/2PACX-1vQkpo2TA9xJ4gKon4ptPJBnlO3WJcTIP6soD1IL2x9D-jUUhZ9HhMlo7kcKuu1RmRi8wZb4o6lMnCJB/pub?output=xlsx', sheet_name = 'Data')"
   ]
  },
  {
   "cell_type": "code",
   "execution_count": null,
   "id": "3fd03a42",
   "metadata": {},
   "outputs": [],
   "source": [
    "print (DS)"
   ]
  },
  {
   "cell_type": "markdown",
   "id": "94ca00fa",
   "metadata": {},
   "source": [
    "2. Show the first 20 rows of the dataset"
   ]
  },
  {
   "cell_type": "code",
   "execution_count": null,
   "id": "5d94cf5c",
   "metadata": {},
   "outputs": [],
   "source": [
    "DS.head(20)"
   ]
  },
  {
   "cell_type": "markdown",
   "id": "641518f3",
   "metadata": {},
   "source": [
    "3. What are the 10 most subscribed courses?"
   ]
  },
  {
   "cell_type": "code",
   "execution_count": null,
   "id": "2efad59d",
   "metadata": {},
   "outputs": [],
   "source": [
    "Top = DS.sort_values (\"num_subscribers\", ascending=False)\n",
    "display (DS)\n",
    "display (DS[[\"course_title\" , \"num_subscribers\"]])"
   ]
  },
  {
   "cell_type": "markdown",
   "id": "635adc5f",
   "metadata": {},
   "source": [
    "OR"
   ]
  },
  {
   "cell_type": "code",
   "execution_count": null,
   "id": "2a5b8c6f",
   "metadata": {},
   "outputs": [],
   "source": [
    "Top = DS.sort_values (\"num_subscribers\")\n",
    "display (DS.tail(10))"
   ]
  },
  {
   "cell_type": "markdown",
   "id": "65cd2c18",
   "metadata": {},
   "source": [
    "4. What is the last subscribed course?"
   ]
  },
  {
   "cell_type": "code",
   "execution_count": null,
   "id": "780134b7",
   "metadata": {},
   "outputs": [],
   "source": [
    "Time = DS.sort_values (\"published_timestamp\", tail()"
   ]
  },
  {
   "cell_type": "markdown",
   "id": "22cdb2f7",
   "metadata": {},
   "source": [
    "5. Which course has the highest rating?"
   ]
  },
  {
   "cell_type": "code",
   "execution_count": null,
   "id": "10e297f5",
   "metadata": {},
   "outputs": [],
   "source": [
    "rating = DS.sort_values(\"Rating\", ascending=False.head(1)"
   ]
  },
  {
   "cell_type": "markdown",
   "id": "078e7505",
   "metadata": {},
   "source": [
    "6. How wmany null values are in the dataset?"
   ]
  },
  {
   "cell_type": "code",
   "execution_count": null,
   "id": "36434a0d",
   "metadata": {},
   "outputs": [],
   "source": [
    "DS.isnull().sum()"
   ]
  },
  {
   "cell_type": "markdown",
   "id": "0eecc013",
   "metadata": {},
   "source": [
    "7. Display all rows that have null values"
   ]
  },
  {
   "cell_type": "code",
   "execution_count": null,
   "id": "51e05636",
   "metadata": {},
   "outputs": [],
   "source": [
    "DS [DS.is null().any(axis=1)]  "
   ]
  },
  {
   "cell_type": "markdown",
   "id": "230ccf9d",
   "metadata": {},
   "source": [
    "The above code returns any roll that has at least 1 null value or 1 NAN"
   ]
  },
  {
   "cell_type": "markdown",
   "id": "567e2606",
   "metadata": {},
   "source": [
    "OR"
   ]
  },
  {
   "cell_type": "code",
   "execution_count": null,
   "id": "69aff831",
   "metadata": {},
   "outputs": [],
   "source": [
    "DS [DS.is null().all(axis=1)]  "
   ]
  },
  {
   "cell_type": "markdown",
   "id": "cd749f91",
   "metadata": {},
   "source": [
    "The above code returns any roll that all the entries are null"
   ]
  },
  {
   "cell_type": "markdown",
   "id": "cff1cbca",
   "metadata": {},
   "source": [
    "8. Display all the rows and columns in the dataset"
   ]
  },
  {
   "cell_type": "code",
   "execution_count": null,
   "id": "7fb9ac54",
   "metadata": {},
   "outputs": [],
   "source": [
    "display DS"
   ]
  },
  {
   "cell_type": "markdown",
   "id": "e75de2e0",
   "metadata": {},
   "source": [
    "OR"
   ]
  },
  {
   "cell_type": "code",
   "execution_count": null,
   "id": "d7b2aee6",
   "metadata": {},
   "outputs": [],
   "source": [
    "pd.set_option(\"display.max_row\", None, \"display.max_column\", None)"
   ]
  },
  {
   "cell_type": "markdown",
   "id": "3ca73971",
   "metadata": {},
   "source": [
    "THANK YOU."
   ]
  }
 ],
 "metadata": {
  "kernelspec": {
   "display_name": "Python 3",
   "language": "python",
   "name": "python3"
  },
  "language_info": {
   "codemirror_mode": {
    "name": "ipython",
    "version": 3
   },
   "file_extension": ".py",
   "mimetype": "text/x-python",
   "name": "python",
   "nbconvert_exporter": "python",
   "pygments_lexer": "ipython3",
   "version": "3.8.8"
  }
 },
 "nbformat": 4,
 "nbformat_minor": 5
}
